{
  "nbformat": 4,
  "nbformat_minor": 0,
  "metadata": {
    "colab": {
      "name": "LeNET_Trained_Model_Hazoor.ipynb",
      "version": "0.3.2",
      "provenance": [],
      "collapsed_sections": []
    },
    "kernelspec": {
      "name": "python3",
      "display_name": "Python 3"
    },
    "accelerator": "GPU"
  },
  "cells": [
    {
      "metadata": {
        "id": "LsrNmZtNnJBu",
        "colab_type": "code",
        "outputId": "097700e1-1d88-4caa-ee6e-e165995de36d",
        "colab": {
          "base_uri": "https://localhost:8080/",
          "height": 34
        }
      },
      "cell_type": "code",
      "source": [
        "from keras.models import Sequential # type of model \n",
        "from keras.layers import Dense, Activation, Conv2D,MaxPooling2D, Dropout, Flatten\n",
        "from keras.optimizers import sgd, Adadelta\n",
        "from keras.datasets import mnist\n",
        "from keras.losses import categorical_crossentropy\n",
        "from keras.utils import to_categorical\n",
        "import numpy as np"
      ],
      "execution_count": 1,
      "outputs": [
        {
          "output_type": "stream",
          "text": [
            "Using TensorFlow backend.\n"
          ],
          "name": "stderr"
        }
      ]
    },
    {
      "metadata": {
        "id": "TBBvB0YGoFfw",
        "colab_type": "code",
        "colab": {}
      },
      "cell_type": "code",
      "source": [
        "(x_train, y_train), (x_test, y_test) = mnist.load_data()\n",
        "\n"
      ],
      "execution_count": 0,
      "outputs": []
    },
    {
      "metadata": {
        "id": "cvzexY_eWUW3",
        "colab_type": "code",
        "colab": {}
      },
      "cell_type": "code",
      "source": [
        "x_train = x_train.reshape(x_train.shape[0], 28, 28, 1)\n",
        "x_test  = x_test.reshape(x_test.shape[0], 28, 28, 1)\n",
        "x_train = x_train.astype('float32')\n",
        "x_test  = x_test.astype('float32')\n",
        "x_train = x_train/255\n",
        "x_test  = x_test/255\n",
        "y_train = to_categorical(y_train,10)\n",
        "y_test  = to_categorical(y_test ,10)"
      ],
      "execution_count": 0,
      "outputs": []
    },
    {
      "metadata": {
        "id": "WQu8yeTdohIz",
        "colab_type": "code",
        "colab": {}
      },
      "cell_type": "code",
      "source": [
        "model = Sequential()\n",
        "model.add(Conv2D(6, kernel_size=(5, 5),activation='relu',input_shape=(28, 28, 1)))"
      ],
      "execution_count": 0,
      "outputs": []
    },
    {
      "metadata": {
        "id": "4yhwuleDZ0-O",
        "colab_type": "code",
        "colab": {}
      },
      "cell_type": "code",
      "source": [
        "model.add(MaxPooling2D(pool_size=(2, 2)))"
      ],
      "execution_count": 0,
      "outputs": []
    },
    {
      "metadata": {
        "id": "f4UVvFmDaexY",
        "colab_type": "code",
        "colab": {}
      },
      "cell_type": "code",
      "source": [
        "model.add(Conv2D(12, kernel_size=(5, 5),activation='relu'))"
      ],
      "execution_count": 0,
      "outputs": []
    },
    {
      "metadata": {
        "id": "lVEqAedyZ_MI",
        "colab_type": "code",
        "colab": {}
      },
      "cell_type": "code",
      "source": [
        "model.add(MaxPooling2D(pool_size=(2, 2)))"
      ],
      "execution_count": 0,
      "outputs": []
    },
    {
      "metadata": {
        "id": "QQghom2Ka7Jf",
        "colab_type": "code",
        "colab": {}
      },
      "cell_type": "code",
      "source": [
        "model.add(Flatten())"
      ],
      "execution_count": 0,
      "outputs": []
    },
    {
      "metadata": {
        "id": "3Xp2PY4ikENk",
        "colab_type": "code",
        "colab": {}
      },
      "cell_type": "code",
      "source": [
        "model.add(Dense(10))"
      ],
      "execution_count": 0,
      "outputs": []
    },
    {
      "metadata": {
        "id": "O_yLxHEVlHMJ",
        "colab_type": "code",
        "colab": {}
      },
      "cell_type": "code",
      "source": [
        "model.add(Activation(\"softmax\"))"
      ],
      "execution_count": 0,
      "outputs": []
    },
    {
      "metadata": {
        "id": "fzBisj5McXtA",
        "colab_type": "code",
        "colab": {
          "base_uri": "https://localhost:8080/",
          "height": 374
        },
        "outputId": "3c931146-8fa9-4827-82a4-2aea246a7d06"
      },
      "cell_type": "code",
      "source": [
        "model.summary()"
      ],
      "execution_count": 11,
      "outputs": [
        {
          "output_type": "stream",
          "text": [
            "_________________________________________________________________\n",
            "Layer (type)                 Output Shape              Param #   \n",
            "=================================================================\n",
            "conv2d_1 (Conv2D)            (None, 24, 24, 6)         156       \n",
            "_________________________________________________________________\n",
            "max_pooling2d_1 (MaxPooling2 (None, 12, 12, 6)         0         \n",
            "_________________________________________________________________\n",
            "conv2d_2 (Conv2D)            (None, 8, 8, 12)          1812      \n",
            "_________________________________________________________________\n",
            "max_pooling2d_2 (MaxPooling2 (None, 4, 4, 12)          0         \n",
            "_________________________________________________________________\n",
            "flatten_1 (Flatten)          (None, 192)               0         \n",
            "_________________________________________________________________\n",
            "dense_1 (Dense)              (None, 10)                1930      \n",
            "_________________________________________________________________\n",
            "activation_1 (Activation)    (None, 10)                0         \n",
            "=================================================================\n",
            "Total params: 3,898\n",
            "Trainable params: 3,898\n",
            "Non-trainable params: 0\n",
            "_________________________________________________________________\n"
          ],
          "name": "stdout"
        }
      ]
    },
    {
      "metadata": {
        "id": "l8pCX3aJomma",
        "colab_type": "code",
        "outputId": "6166dd2d-1a40-4dea-83b5-3c1212adc19e",
        "colab": {
          "base_uri": "https://localhost:8080/",
          "height": 3434
        }
      },
      "cell_type": "code",
      "source": [
        "model.compile(loss=categorical_crossentropy,optimizer=Adadelta(),metrics=['accuracy'])\n",
        "model.fit(x_train, y_train, batch_size=100, epochs=100)"
      ],
      "execution_count": 12,
      "outputs": [
        {
          "output_type": "stream",
          "text": [
            "Epoch 1/100\n",
            "60000/60000 [==============================] - 7s 118us/step - loss: 0.3256 - acc: 0.8979\n",
            "Epoch 2/100\n",
            "60000/60000 [==============================] - 5s 88us/step - loss: 0.1105 - acc: 0.9671\n",
            "Epoch 3/100\n",
            "60000/60000 [==============================] - 6s 92us/step - loss: 0.0861 - acc: 0.9740\n",
            "Epoch 4/100\n",
            "60000/60000 [==============================] - 5s 91us/step - loss: 0.0740 - acc: 0.9773\n",
            "Epoch 5/100\n",
            "60000/60000 [==============================] - 6s 92us/step - loss: 0.0661 - acc: 0.9800\n",
            "Epoch 6/100\n",
            "60000/60000 [==============================] - 5s 91us/step - loss: 0.0599 - acc: 0.9814\n",
            "Epoch 7/100\n",
            "60000/60000 [==============================] - 6s 95us/step - loss: 0.0557 - acc: 0.9830\n",
            "Epoch 8/100\n",
            "60000/60000 [==============================] - 6s 96us/step - loss: 0.0522 - acc: 0.9841\n",
            "Epoch 9/100\n",
            "60000/60000 [==============================] - 5s 91us/step - loss: 0.0483 - acc: 0.9857\n",
            "Epoch 10/100\n",
            "60000/60000 [==============================] - 5s 84us/step - loss: 0.0462 - acc: 0.9862\n",
            "Epoch 11/100\n",
            "60000/60000 [==============================] - 5s 86us/step - loss: 0.0438 - acc: 0.9868\n",
            "Epoch 12/100\n",
            "60000/60000 [==============================] - 5s 87us/step - loss: 0.0417 - acc: 0.9871\n",
            "Epoch 13/100\n",
            "60000/60000 [==============================] - 5s 84us/step - loss: 0.0401 - acc: 0.9879\n",
            "Epoch 14/100\n",
            "60000/60000 [==============================] - 5s 85us/step - loss: 0.0383 - acc: 0.9884\n",
            "Epoch 15/100\n",
            "60000/60000 [==============================] - 5s 82us/step - loss: 0.0364 - acc: 0.9890\n",
            "Epoch 16/100\n",
            "60000/60000 [==============================] - 5s 83us/step - loss: 0.0351 - acc: 0.9898\n",
            "Epoch 17/100\n",
            "60000/60000 [==============================] - 5s 83us/step - loss: 0.0341 - acc: 0.9894\n",
            "Epoch 18/100\n",
            "60000/60000 [==============================] - 5s 82us/step - loss: 0.0327 - acc: 0.9899\n",
            "Epoch 19/100\n",
            "60000/60000 [==============================] - 5s 83us/step - loss: 0.0314 - acc: 0.9901\n",
            "Epoch 20/100\n",
            "60000/60000 [==============================] - 5s 82us/step - loss: 0.0302 - acc: 0.9908\n",
            "Epoch 21/100\n",
            "60000/60000 [==============================] - 5s 82us/step - loss: 0.0297 - acc: 0.9907\n",
            "Epoch 22/100\n",
            "60000/60000 [==============================] - 5s 84us/step - loss: 0.0282 - acc: 0.9912\n",
            "Epoch 23/100\n",
            "60000/60000 [==============================] - 5s 82us/step - loss: 0.0277 - acc: 0.9913\n",
            "Epoch 24/100\n",
            "60000/60000 [==============================] - 5s 83us/step - loss: 0.0267 - acc: 0.9914\n",
            "Epoch 25/100\n",
            "60000/60000 [==============================] - 5s 90us/step - loss: 0.0256 - acc: 0.9921\n",
            "Epoch 26/100\n",
            "60000/60000 [==============================] - 5s 87us/step - loss: 0.0250 - acc: 0.9920\n",
            "Epoch 27/100\n",
            "60000/60000 [==============================] - 5s 88us/step - loss: 0.0242 - acc: 0.9926\n",
            "Epoch 28/100\n",
            "60000/60000 [==============================] - 5s 88us/step - loss: 0.0234 - acc: 0.9926\n",
            "Epoch 29/100\n",
            "60000/60000 [==============================] - 5s 83us/step - loss: 0.0229 - acc: 0.9928\n",
            "Epoch 30/100\n",
            "60000/60000 [==============================] - 5s 84us/step - loss: 0.0223 - acc: 0.9932\n",
            "Epoch 31/100\n",
            "60000/60000 [==============================] - 5s 85us/step - loss: 0.0213 - acc: 0.9934\n",
            "Epoch 32/100\n",
            "60000/60000 [==============================] - 5s 86us/step - loss: 0.0210 - acc: 0.9934\n",
            "Epoch 33/100\n",
            "60000/60000 [==============================] - 5s 85us/step - loss: 0.0206 - acc: 0.9938\n",
            "Epoch 34/100\n",
            "60000/60000 [==============================] - 5s 85us/step - loss: 0.0198 - acc: 0.9941\n",
            "Epoch 35/100\n",
            "60000/60000 [==============================] - 5s 84us/step - loss: 0.0191 - acc: 0.9943\n",
            "Epoch 36/100\n",
            "60000/60000 [==============================] - 5s 84us/step - loss: 0.0190 - acc: 0.9943\n",
            "Epoch 37/100\n",
            "60000/60000 [==============================] - 5s 86us/step - loss: 0.0180 - acc: 0.9946\n",
            "Epoch 38/100\n",
            "60000/60000 [==============================] - 5s 83us/step - loss: 0.0178 - acc: 0.9948\n",
            "Epoch 39/100\n",
            "60000/60000 [==============================] - 6s 99us/step - loss: 0.0172 - acc: 0.9949\n",
            "Epoch 40/100\n",
            "60000/60000 [==============================] - 6s 92us/step - loss: 0.0172 - acc: 0.9949\n",
            "Epoch 41/100\n",
            "60000/60000 [==============================] - 6s 94us/step - loss: 0.0164 - acc: 0.9951\n",
            "Epoch 42/100\n",
            "60000/60000 [==============================] - 5s 82us/step - loss: 0.0162 - acc: 0.9951\n",
            "Epoch 43/100\n",
            "60000/60000 [==============================] - 5s 83us/step - loss: 0.0160 - acc: 0.9953\n",
            "Epoch 44/100\n",
            "60000/60000 [==============================] - 5s 81us/step - loss: 0.0154 - acc: 0.9955\n",
            "Epoch 45/100\n",
            "60000/60000 [==============================] - 5s 83us/step - loss: 0.0150 - acc: 0.9955\n",
            "Epoch 46/100\n",
            "60000/60000 [==============================] - 5s 81us/step - loss: 0.0148 - acc: 0.9955\n",
            "Epoch 47/100\n",
            "60000/60000 [==============================] - 5s 85us/step - loss: 0.0143 - acc: 0.9956\n",
            "Epoch 48/100\n",
            "60000/60000 [==============================] - 5s 82us/step - loss: 0.0139 - acc: 0.9958\n",
            "Epoch 49/100\n",
            "60000/60000 [==============================] - 5s 89us/step - loss: 0.0134 - acc: 0.9961\n",
            "Epoch 50/100\n",
            "60000/60000 [==============================] - 5s 90us/step - loss: 0.0134 - acc: 0.9960\n",
            "Epoch 51/100\n",
            "60000/60000 [==============================] - 5s 86us/step - loss: 0.0130 - acc: 0.9961\n",
            "Epoch 52/100\n",
            "60000/60000 [==============================] - 5s 82us/step - loss: 0.0127 - acc: 0.9964\n",
            "Epoch 53/100\n",
            "60000/60000 [==============================] - 5s 83us/step - loss: 0.0127 - acc: 0.9966\n",
            "Epoch 54/100\n",
            "60000/60000 [==============================] - 5s 85us/step - loss: 0.0123 - acc: 0.9964\n",
            "Epoch 55/100\n",
            "60000/60000 [==============================] - 5s 84us/step - loss: 0.0119 - acc: 0.9966\n",
            "Epoch 56/100\n",
            "60000/60000 [==============================] - 5s 83us/step - loss: 0.0114 - acc: 0.9968\n",
            "Epoch 57/100\n",
            "60000/60000 [==============================] - 5s 85us/step - loss: 0.0115 - acc: 0.9970\n",
            "Epoch 58/100\n",
            "60000/60000 [==============================] - 5s 83us/step - loss: 0.0112 - acc: 0.9970\n",
            "Epoch 59/100\n",
            "60000/60000 [==============================] - 5s 82us/step - loss: 0.0108 - acc: 0.9971\n",
            "Epoch 60/100\n",
            "60000/60000 [==============================] - 5s 83us/step - loss: 0.0107 - acc: 0.9971\n",
            "Epoch 61/100\n",
            "60000/60000 [==============================] - 5s 82us/step - loss: 0.0104 - acc: 0.9971\n",
            "Epoch 62/100\n",
            "60000/60000 [==============================] - 5s 87us/step - loss: 0.0104 - acc: 0.9970\n",
            "Epoch 63/100\n",
            "60000/60000 [==============================] - 5s 84us/step - loss: 0.0100 - acc: 0.9974\n",
            "Epoch 64/100\n",
            "60000/60000 [==============================] - 5s 83us/step - loss: 0.0095 - acc: 0.9973\n",
            "Epoch 65/100\n",
            "60000/60000 [==============================] - 5s 82us/step - loss: 0.0096 - acc: 0.9973\n",
            "Epoch 66/100\n",
            "60000/60000 [==============================] - 5s 88us/step - loss: 0.0092 - acc: 0.9975\n",
            "Epoch 67/100\n",
            "60000/60000 [==============================] - 5s 84us/step - loss: 0.0090 - acc: 0.9974\n",
            "Epoch 68/100\n",
            "60000/60000 [==============================] - 5s 84us/step - loss: 0.0088 - acc: 0.9976\n",
            "Epoch 69/100\n",
            "60000/60000 [==============================] - 5s 82us/step - loss: 0.0085 - acc: 0.9975\n",
            "Epoch 70/100\n",
            "60000/60000 [==============================] - 5s 82us/step - loss: 0.0086 - acc: 0.9976\n",
            "Epoch 71/100\n",
            "60000/60000 [==============================] - 5s 82us/step - loss: 0.0082 - acc: 0.9978\n",
            "Epoch 72/100\n",
            "60000/60000 [==============================] - 5s 83us/step - loss: 0.0083 - acc: 0.9976\n",
            "Epoch 73/100\n",
            "60000/60000 [==============================] - 5s 90us/step - loss: 0.0079 - acc: 0.9978\n",
            "Epoch 74/100\n",
            "60000/60000 [==============================] - 5s 84us/step - loss: 0.0078 - acc: 0.9979\n",
            "Epoch 75/100\n",
            "60000/60000 [==============================] - 5s 84us/step - loss: 0.0075 - acc: 0.9980\n",
            "Epoch 76/100\n",
            "60000/60000 [==============================] - 5s 83us/step - loss: 0.0075 - acc: 0.9982\n",
            "Epoch 77/100\n",
            "60000/60000 [==============================] - 5s 85us/step - loss: 0.0071 - acc: 0.9980\n",
            "Epoch 78/100\n",
            "60000/60000 [==============================] - 5s 87us/step - loss: 0.0071 - acc: 0.9980\n",
            "Epoch 79/100\n",
            "60000/60000 [==============================] - 5s 84us/step - loss: 0.0067 - acc: 0.9982\n",
            "Epoch 80/100\n",
            "60000/60000 [==============================] - 5s 85us/step - loss: 0.0070 - acc: 0.9983\n",
            "Epoch 81/100\n",
            "60000/60000 [==============================] - 5s 86us/step - loss: 0.0064 - acc: 0.9983\n",
            "Epoch 82/100\n",
            "60000/60000 [==============================] - 5s 87us/step - loss: 0.0064 - acc: 0.9984\n",
            "Epoch 83/100\n",
            "60000/60000 [==============================] - 5s 81us/step - loss: 0.0065 - acc: 0.9983\n",
            "Epoch 84/100\n",
            "60000/60000 [==============================] - 5s 83us/step - loss: 0.0062 - acc: 0.9983\n",
            "Epoch 85/100\n",
            "60000/60000 [==============================] - 5s 81us/step - loss: 0.0059 - acc: 0.9984\n",
            "Epoch 86/100\n",
            "60000/60000 [==============================] - 5s 82us/step - loss: 0.0059 - acc: 0.9987\n",
            "Epoch 87/100\n",
            "60000/60000 [==============================] - 5s 81us/step - loss: 0.0056 - acc: 0.9986\n",
            "Epoch 88/100\n",
            "60000/60000 [==============================] - 5s 87us/step - loss: 0.0056 - acc: 0.9986\n",
            "Epoch 89/100\n",
            "60000/60000 [==============================] - 5s 85us/step - loss: 0.0056 - acc: 0.9984\n",
            "Epoch 90/100\n",
            "60000/60000 [==============================] - 5s 81us/step - loss: 0.0052 - acc: 0.9987\n",
            "Epoch 91/100\n",
            "60000/60000 [==============================] - 5s 86us/step - loss: 0.0051 - acc: 0.9986\n",
            "Epoch 92/100\n",
            "60000/60000 [==============================] - 5s 84us/step - loss: 0.0052 - acc: 0.9987\n",
            "Epoch 93/100\n",
            "60000/60000 [==============================] - 5s 84us/step - loss: 0.0050 - acc: 0.9986\n",
            "Epoch 94/100\n",
            "60000/60000 [==============================] - 5s 83us/step - loss: 0.0048 - acc: 0.9989\n",
            "Epoch 95/100\n",
            "60000/60000 [==============================] - 5s 83us/step - loss: 0.0046 - acc: 0.9990\n",
            "Epoch 96/100\n",
            "60000/60000 [==============================] - 5s 86us/step - loss: 0.0047 - acc: 0.9989\n",
            "Epoch 97/100\n",
            "60000/60000 [==============================] - 5s 83us/step - loss: 0.0047 - acc: 0.9987\n",
            "Epoch 98/100\n",
            "60000/60000 [==============================] - 5s 82us/step - loss: 0.0043 - acc: 0.9990\n",
            "Epoch 99/100\n",
            "60000/60000 [==============================] - 5s 83us/step - loss: 0.0044 - acc: 0.9990\n",
            "Epoch 100/100\n",
            "60000/60000 [==============================] - 5s 85us/step - loss: 0.0045 - acc: 0.9989\n"
          ],
          "name": "stdout"
        },
        {
          "output_type": "execute_result",
          "data": {
            "text/plain": [
              "<keras.callbacks.History at 0x7f698669a588>"
            ]
          },
          "metadata": {
            "tags": []
          },
          "execution_count": 12
        }
      ]
    },
    {
      "metadata": {
        "id": "wDNYw-PRtNeX",
        "colab_type": "code",
        "outputId": "62747946-4725-41f4-ae07-b1d24d8116fa",
        "colab": {
          "base_uri": "https://localhost:8080/",
          "height": 51
        }
      },
      "cell_type": "code",
      "source": [
        "score = model.evaluate(x_test, y_test, verbose=0)\n",
        "print('Test loss:', score[0])\n",
        "print('Test accuracy:', score[1])"
      ],
      "execution_count": 13,
      "outputs": [
        {
          "output_type": "stream",
          "text": [
            "Test loss: 0.06909757967195937\n",
            "Test accuracy: 0.9872\n"
          ],
          "name": "stdout"
        }
      ]
    },
    {
      "metadata": {
        "id": "9RKmZ5PQ0vDc",
        "colab_type": "code",
        "colab": {}
      },
      "cell_type": "code",
      "source": [
        "model.save('project1.h5')\n",
        "from google.colab import files\n",
        "files.download('project1.h5')"
      ],
      "execution_count": 0,
      "outputs": []
    }
  ]
}